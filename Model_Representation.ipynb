{
 "cells": [
  {
   "cell_type": "markdown",
   "id": "6b2345cd-8717-4418-a520-b23a3ee94a5d",
   "metadata": {
    "tags": []
   },
   "source": [
    "# MODEL REPRESENTATION\n",
    "\n",
    "<figure>\n",
    "    <img src =\"./assets/LinearRegression.jpg \" style =\" width:600px; height:200px;\">\n",
    "</figure>"
   ]
  },
  {
   "cell_type": "markdown",
   "id": "b4e145f3-985a-4dcf-8319-34439aa4304d",
   "metadata": {},
   "source": [
    "## GOALS\n",
    " implementing $f_{w,b}$ for linear regression with one variable (**univariate linear regression**)"
   ]
  },
  {
   "cell_type": "code",
   "execution_count": 3,
   "id": "e276e7e5-21c0-4c8b-8862-86e2561f56e4",
   "metadata": {},
   "outputs": [],
   "source": [
    "import numpy as np\n",
    "import matplotlib.pyplot as plt\n",
    "\n",
    "plt.style.use('seaborn')\n",
    "#to check the styles --- print(plt.style.available)"
   ]
  },
  {
   "cell_type": "markdown",
   "id": "44a9e719-46c8-41f7-adf2-2e2df97215ce",
   "metadata": {},
   "source": [
    "<img align=\"left\" src=\"./assets/image.jpg\" style=\" width:380px; padding: 10px;\" /> \n",
    "\n",
    "we are using a simple dataset house two houses with respetive size and price \n",
    "\n",
    "(1000 sqft,300000$)\n",
    "\n",
    "(2000 sqft,500000$) "
   ]
  },
  {
   "cell_type": "code",
   "execution_count": 9,
   "id": "97bf7cca-57f0-4bb7-af60-d53b72affdd3",
   "metadata": {},
   "outputs": [
    {
     "name": "stdout",
     "output_type": "stream",
     "text": [
      "x_train = [1. 2.]\n",
      "x_train = [300. 500.]\n"
     ]
    }
   ],
   "source": [
    "x_train = np.array([1.0,2.0])\n",
    "y_train = np.array([300.0,500.0])\n",
    "\n",
    "print(f\"x_train = {x_train}\")\n",
    "print(f\"x_train = {y_train}\")"
   ]
  },
  {
   "cell_type": "code",
   "execution_count": 10,
   "id": "37c5f093-2fe2-49ec-916f-06adcba96a16",
   "metadata": {},
   "outputs": [
    {
     "name": "stdout",
     "output_type": "stream",
     "text": [
      "Number of training examples is = 2\n"
     ]
    }
   ],
   "source": [
    "#number of training examples\n",
    "m = x_train.shape[0]\n",
    "print(f\"Number of training examples is = {m}\")"
   ]
  },
  {
   "cell_type": "code",
   "execution_count": 12,
   "id": "8944f76d-c9b4-409a-9ab8-7796f1bae0e8",
   "metadata": {},
   "outputs": [
    {
     "name": "stdout",
     "output_type": "stream",
     "text": [
      " (X^(0), X^(0) ) = (1.0,300.0)\n"
     ]
    }
   ],
   "source": [
    "#check the ith observation or training example\n",
    "i = 0\n",
    "x_i = x_train[i]\n",
    "y_i = y_train[i]\n",
    "\n",
    "print(f\" (X^({i}), X^({i}) ) = ({x_i},{y_i})\")"
   ]
  },
  {
   "cell_type": "code",
   "execution_count": 13,
   "id": "13808643-4440-4651-8695-32f84b6496b3",
   "metadata": {},
   "outputs": [
    {
     "data": {
      "image/png": "[encoded data removed]",
      "text/plain": [
       "<Figure size 576x396 with 1 Axes>"
      ]
     },
     "metadata": {},
     "output_type": "display_data"
    }
   ],
   "source": [
    "#plot the data point \n",
    "\n",
    "plt.scatter(x_train, y_train, marker ='x',c ='r')\n",
    "plt.title(\"Housing Prices\")\n",
    "plt.ylabel(\"Price (in  1000s of dollars)\")\n",
    "plt.xlabel(\"Size (1000 sqft)\")\n",
    "plt.show()"
   ]
  },
  {
   "cell_type": "markdown",
   "id": "41bda90d-41a4-4ded-8ef0-1ecda737d25c",
   "metadata": {},
   "source": [
    "the model function for linear regression (which is a function that maps from `x` to `y`) is represented as \n",
    "\n",
    "$$ f_{w,b}(x^{(i)}) = wx^{(i)} + b \\tag{1}$$\n",
    "\n",
    "The formula above is how you can represent straight lines - different values of $w$ and $b$ give you different straight lines on the plot. <br/> <br/> <br/> <br/> <br/> "
   ]
  },
  {
   "cell_type": "markdown",
   "id": "0f40921c-cd9f-46c2-b9b4-ffb35e4ecaee",
   "metadata": {},
   "source": [
    "Let's try to get a better intuition for this through the code blocks below. \n",
    "\n",
    "Let's start with $w = 100$ and $b = 100$."
   ]
  },
  {
   "cell_type": "code",
   "execution_count": 15,
   "id": "a0900732-ad28-4226-8abc-1378689c9c2e",
   "metadata": {},
   "outputs": [
    {
     "name": "stdout",
     "output_type": "stream",
     "text": [
      "w: 100\n",
      "b: 100\n"
     ]
    }
   ],
   "source": [
    "w = 100\n",
    "b = 100\n",
    "print(f\"w: {w}\")\n",
    "print(f\"b: {b}\")"
   ]
  },
  {
   "cell_type": "markdown",
   "id": "8f4fc564-550f-4422-9c77-4b6d69f72184",
   "metadata": {},
   "source": [
    "Now, let's compute the value of $f_{w,b}(x^{(i)})$ for your two data points. You can explicitly write this out for each data point as - \n",
    "\n",
    "for $x^{(0)}$, `f_wb = w * x[0] + b`\n",
    "\n",
    "for $x^{(1)}$, `f_wb = w * x[1] + b`\n",
    "\n",
    "For a large number of data points, this can get unwieldy and repetitive. So instead, you can calculate the function output in a `for` loop as shown in the `compute_model_output` function below."
   ]
  },
  {
   "cell_type": "code",
   "execution_count": 16,
   "id": "04830369-e3f9-4dd2-978a-6f432bac62a2",
   "metadata": {},
   "outputs": [],
   "source": [
    "def compute_model_output(x,w,b) :\n",
    "    \"\"\"\n",
    "    Computes the prediction of a linear model\n",
    "    Args:\n",
    "      x (ndarray (m,)): Data, m examples \n",
    "      w,b (scalar)    : model parameters  \n",
    "    Returns\n",
    "      y (ndarray (m,)): target values\n",
    "    \"\"\"\n",
    "    \n",
    "    m = x.shape[0]\n",
    "    f_wb = np.zeros(m)\n",
    "    for i in range(m):\n",
    "        f_wb[i]  = w*x[i]+b        \n",
    "    return f_wb"
   ]
  },
  {
   "cell_type": "code",
   "execution_count": 17,
   "id": "1f39cca3-c670-402c-b44b-2b509944c713",
   "metadata": {},
   "outputs": [],
   "source": [
    "tmp_f_wb = compute_model_output (x_train, w, b)"
   ]
  },
  {
   "cell_type": "code",
   "execution_count": 18,
   "id": "5a3910e8-6696-49b0-a9ce-3535d8448f5f",
   "metadata": {},
   "outputs": [
    {
     "data": {
      "image/png": "[encoded data removed]",
      "text/plain": [
       "<Figure size 576x396 with 1 Axes>"
      ]
     },
     "metadata": {},
     "output_type": "display_data"
    }
   ],
   "source": [
    "#plotting the prediction against the real values\n",
    "\n",
    "#Plotting the predictions\n",
    "plt.plot(x_train,tmp_f_wb, c = 'b', label = 'Our Prediction')\n",
    "\n",
    "#Plotting data points\n",
    "plt.scatter(x_train,y_train, marker = 'x', label = 'Actual Values')\n",
    "\n",
    "\n",
    "#Annotations\n",
    "plt.title(\"Housing Prices\")\n",
    "plt.ylabel(\"Price (in 1000s of dollars)\")\n",
    "plt.xlabel(\"Size (1000 sqft)\")\n",
    "plt.legend()\n",
    "plt.show()"
   ]
  },
  {
   "cell_type": "markdown",
   "id": "cdd6d9b9-a26b-4d53-a65a-19d6f7782c54",
   "metadata": {},
   "source": [
    "by Tweaking/estimating the values of x and w we will be able find out values that allow us to draw a  function that can reasonably predict our values"
   ]
  },
  {
   "cell_type": "markdown",
   "id": "c812bbb3-5020-412a-ac5d-ce33935fb91d",
   "metadata": {},
   "source": [
    "**Prediction:** consists of using our function to determine the estimated target value of a specific unknown  input value"
   ]
  },
  {
   "cell_type": "code",
   "execution_count": null,
   "id": "4fcdb094-ce46-4ae3-9470-5cb1202a730a",
   "metadata": {},
   "outputs": [],
   "source": []
  }
 ],
 "metadata": {
  "kernelspec": {
   "display_name": "Python 3 (ipykernel)",
   "language": "python",
   "name": "python3"
  },
  "language_info": {
   "codemirror_mode": {
    "name": "ipython",
    "version": 3
   },
   "file_extension": ".py",
   "mimetype": "text/x-python",
   "name": "python",
   "nbconvert_exporter": "python",
   "pygments_lexer": "ipython3",
   "version": "3.8.10"
  }
 },
 "nbformat": 4,
 "nbformat_minor": 5
}
