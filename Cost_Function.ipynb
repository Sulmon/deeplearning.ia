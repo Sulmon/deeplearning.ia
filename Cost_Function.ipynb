{
 "cells": [
  {
   "cell_type": "markdown",
   "id": "9e7d589a-ed9f-4c6a-8ea3-05539a798e50",
   "metadata": {},
   "source": [
    "<figure>\n",
    "<center>   <img src=\"./assets/costfunction.jpg\" style =\"width:1000px;height:200px;\" > </center>\n",
    "</figure>"
   ]
  },
  {
   "cell_type": "markdown",
   "id": "a82fe14e-b83c-458d-b137-7b9557b80f38",
   "metadata": {},
   "source": [
    "## GOAL \n",
    "\n",
    "- Implement and explore the cost function for linear regression with one variable\n"
   ]
  }
 ],
 "metadata": {
  "kernelspec": {
   "display_name": "Python 3 (ipykernel)",
   "language": "python",
   "name": "python3"
  },
  "language_info": {
   "codemirror_mode": {
    "name": "ipython",
    "version": 3
   },
   "file_extension": ".py",
   "mimetype": "text/x-python",
   "name": "python",
   "nbconvert_exporter": "python",
   "pygments_lexer": "ipython3",
   "version": "3.8.10"
  }
 },
 "nbformat": 4,
 "nbformat_minor": 5
}
