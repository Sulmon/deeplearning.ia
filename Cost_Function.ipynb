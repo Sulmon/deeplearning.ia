{
 "cells": [
  {
   "cell_type": "markdown",
   "id": "attached-spice",
   "metadata": {},
   "source": [
    "<figure>\n",
    "<center>   <img src=\"./assets/costfunction.jpg\" style =\"width:1000px;height:200px;\" > </center>\n",
    "</figure>"
   ]
  },
  {
   "cell_type": "markdown",
   "id": "enormous-somerset",
   "metadata": {},
   "source": [
    "## GOAL \n",
    "\n",
    "- Implement and explore the cost function for linear regression with one variable\n"
   ]
  },
  {
   "cell_type": "markdown",
   "id": "french-contract",
   "metadata": {},
   "source": [
    "## TOOLS \n",
    "\n",
    "In this lab we make use of \n",
    "\n",
    "- Numpy, a popular scientific computing \n",
    "- Matplotlib . a popular library for plotting data\n",
    "- local plotting routines in the lab_utils_uni.py file in the local library"
   ]
  },
  {
   "cell_type": "code",
   "execution_count": null,
   "id": "damaged-bankruptcy",
   "metadata": {},
   "outputs": [],
   "source": [
    "import numpy as np\n",
    "%matplotlib  widget\n",
    "\n",
    "import matplotlib.pyplot as plt\n",
    "from lab_utils_uni import plt_intuition, plt_stationary, plt_update_onclick,soup_bowl\n",
    "plt.styl.use('./deeplearning.mplstyle')"
   ]
  },
  {
   "cell_type": "code",
   "execution_count": null,
   "id": "under-respect",
   "metadata": {},
   "outputs": [],
   "source": []
  },
  {
   "cell_type": "code",
   "execution_count": null,
   "id": "juvenile-scroll",
   "metadata": {},
   "outputs": [],
   "source": []
  },
  {
   "cell_type": "code",
   "execution_count": null,
   "id": "portuguese-nirvana",
   "metadata": {},
   "outputs": [],
   "source": []
  }
 ],
 "metadata": {
  "kernelspec": {
   "display_name": "Python 3",
   "language": "python",
   "name": "python3"
  },
  "language_info": {
   "codemirror_mode": {
    "name": "ipython",
    "version": 3
   },
   "file_extension": ".py",
   "mimetype": "text/x-python",
   "name": "python",
   "nbconvert_exporter": "python",
   "pygments_lexer": "ipython3",
   "version": "3.7.1"
  }
 },
 "nbformat": 4,
 "nbformat_minor": 5
}
